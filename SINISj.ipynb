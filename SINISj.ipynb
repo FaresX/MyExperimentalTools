{
 "cells": [
  {
   "cell_type": "code",
   "execution_count": 2,
   "metadata": {},
   "outputs": [],
   "source": [
    "using Latexify\n",
    "using Unitful"
   ]
  },
  {
   "cell_type": "code",
   "execution_count": 27,
   "metadata": {},
   "outputs": [
    {
     "data": {
      "text/plain": [
       "1.380649e-23"
      ]
     },
     "metadata": {},
     "output_type": "display_data"
    }
   ],
   "source": [
    "e = ustrip(Unitful.q)\n",
    "kB = ustrip(Unitful.k)"
   ]
  },
  {
   "cell_type": "code",
   "execution_count": 11,
   "metadata": {},
   "outputs": [
    {
     "data": {
      "text/latex": [
       "$\\frac{\\Delta^{2}}{E^{2} + \\left( 1 + 2 \\cdot Z^{2} \\right)^{2} \\cdot \\left( \\Delta^{2} - E^{2} \\right)}$"
      ],
      "text/plain": [
       "L\"$\\frac{\\Delta^{2}}{E^{2} + \\left( 1 + 2 \\cdot Z^{2} \\right)^{2} \\cdot \\left( \\Delta^{2} - E^{2} \\right)}$\""
      ]
     },
     "metadata": {},
     "output_type": "display_data"
    }
   ],
   "source": [
    "Ain(E; Δ=0.0001, Z=0) = Δ^2/(E^2+(1+2Z^2)^2*(Δ^2-E^2))\n",
    ":(Δ^2/(E^2+(1+2Z^2)^2*(Δ^2-E^2))) |> latexify"
   ]
  },
  {
   "cell_type": "code",
   "execution_count": 12,
   "metadata": {},
   "outputs": [
    {
     "data": {
      "text/latex": [
       "$\\frac{4 \\cdot Z^{2} \\cdot \\left( 1 + Z^{2} \\right) \\cdot \\left( \\Delta^{2} - E^{2} \\right)}{E^{2} + \\left( 1 + 2 \\cdot Z^{2} \\right)^{2} \\cdot \\left( \\Delta^{2} - E^{2} \\right)}$"
      ],
      "text/plain": [
       "L\"$\\frac{4 \\cdot Z^{2} \\cdot \\left( 1 + Z^{2} \\right) \\cdot \\left( \\Delta^{2} - E^{2} \\right)}{E^{2} + \\left( 1 + 2 \\cdot Z^{2} \\right)^{2} \\cdot \\left( \\Delta^{2} - E^{2} \\right)}$\""
      ]
     },
     "metadata": {},
     "output_type": "display_data"
    }
   ],
   "source": [
    "Bin(E; Δ=0.0001, Z=0) = 4Z^2*(1+Z^2)*(Δ^2-E^2)/(E^2+(1+2Z^2)^2*(Δ^2-E^2))\n",
    ":(4Z^2*(1+Z^2)*(Δ^2-E^2)/(E^2+(1+2Z^2)^2*(Δ^2-E^2))) |> latexify"
   ]
  },
  {
   "cell_type": "code",
   "execution_count": 60,
   "metadata": {},
   "outputs": [
    {
     "data": {
      "text/plain": [
       "Tin (generic function with 1 method)"
      ]
     },
     "metadata": {},
     "output_type": "display_data"
    }
   ],
   "source": [
    "Tin(E) = 0"
   ]
  },
  {
   "cell_type": "code",
   "execution_count": 17,
   "metadata": {},
   "outputs": [
    {
     "data": {
      "text/latex": [
       "$\\frac{\\Delta^{2}}{\\left( E + \\left( 1 + 2 \\cdot Z^{2} \\right) \\cdot \\sqrt{E^{2} - \\Delta^{2}} \\right)^{2}}$"
      ],
      "text/plain": [
       "L\"$\\frac{\\Delta^{2}}{\\left( E + \\left( 1 + 2 \\cdot Z^{2} \\right) \\cdot \\sqrt{E^{2} - \\Delta^{2}} \\right)^{2}}$\""
      ]
     },
     "metadata": {},
     "output_type": "display_data"
    }
   ],
   "source": [
    "Aout(E; Δ=0.0001, Z=0) = Δ^2/(E+(1+2Z^2)*√(E^2-Δ^2))^2\n",
    ":(Δ^2/(E+(1+2Z^2)*√(E^2-Δ^2))^2) |> latexify"
   ]
  },
  {
   "cell_type": "code",
   "execution_count": 19,
   "metadata": {},
   "outputs": [
    {
     "data": {
      "text/latex": [
       "$\\frac{4 \\cdot Z^{2} \\cdot \\left( 1 + Z^{2} \\right) \\cdot \\left( E^{2} - \\Delta^{2} \\right)}{\\left( E + \\left( 1 + 2 \\cdot Z^{2} \\right) \\cdot \\sqrt{E^{2} - \\Delta^{2}} \\right)^{2}}$"
      ],
      "text/plain": [
       "L\"$\\frac{4 \\cdot Z^{2} \\cdot \\left( 1 + Z^{2} \\right) \\cdot \\left( E^{2} - \\Delta^{2} \\right)}{\\left( E + \\left( 1 + 2 \\cdot Z^{2} \\right) \\cdot \\sqrt{E^{2} - \\Delta^{2}} \\right)^{2}}$\""
      ]
     },
     "metadata": {},
     "output_type": "display_data"
    }
   ],
   "source": [
    "Bout(E; Δ=0.0001, Z=0) = 4Z^2*(1+Z^2)*(E^2-Δ^2)/(E+(1+2Z^2)*√(E^2-Δ^2))^2\n",
    ":(4Z^2*(1+Z^2)*(E^2-Δ^2)/(E+(1+2Z^2)*√(E^2-Δ^2))^2) |> latexify"
   ]
  },
  {
   "cell_type": "code",
   "execution_count": 20,
   "metadata": {},
   "outputs": [
    {
     "data": {
      "text/latex": [
       "$\\frac{2 \\cdot \\left( E^{2} - \\Delta^{2} + E \\cdot \\left( 1 + 2 \\cdot Z^{2} \\right) \\cdot \\sqrt{E^{2} - \\Delta^{2}} \\right)}{\\left( E + \\left( 1 + 2 \\cdot Z^{2} \\right) \\cdot \\sqrt{E^{2} - \\Delta^{2}} \\right)^{2}}$"
      ],
      "text/plain": [
       "L\"$\\frac{2 \\cdot \\left( E^{2} - \\Delta^{2} + E \\cdot \\left( 1 + 2 \\cdot Z^{2} \\right) \\cdot \\sqrt{E^{2} - \\Delta^{2}} \\right)}{\\left( E + \\left( 1 + 2 \\cdot Z^{2} \\right) \\cdot \\sqrt{E^{2} - \\Delta^{2}} \\right)^{2}}$\""
      ]
     },
     "metadata": {},
     "output_type": "display_data"
    }
   ],
   "source": [
    "Tout(E; Δ=0.0001, Z=0) = 2(E^2-Δ^2+E*(1+2Z^2)*√(E^2-Δ^2))/(E+(1+2Z^2)*√(E^2-Δ^2))^2\n",
    ":(2(E^2-Δ^2+E*(1+2Z^2)*√(E^2-Δ^2))/(E+(1+2Z^2)*√(E^2-Δ^2))^2) |> latexify"
   ]
  },
  {
   "cell_type": "code",
   "execution_count": 24,
   "metadata": {},
   "outputs": [
    {
     "data": {
      "text/plain": [
       "A (generic function with 2 methods)"
      ]
     },
     "metadata": {},
     "output_type": "display_data"
    }
   ],
   "source": [
    "A(E; Δ=0.0001, Z=0) = abs(E) < Δ ? Ain(E; Δ=Δ, Z=Z) : Aout(E; Δ=Δ, Z=Z)\n",
    "A(n, V, E; Δ=0.0001, Z=0) = A(E + n * e * V; Δ=Δ, Z=Z)"
   ]
  },
  {
   "cell_type": "code",
   "execution_count": 25,
   "metadata": {},
   "outputs": [
    {
     "data": {
      "text/plain": [
       "B (generic function with 2 methods)"
      ]
     },
     "metadata": {},
     "output_type": "display_data"
    }
   ],
   "source": [
    "B(E; Δ=0.0001, Z=0) = abs(E) < Δ ? Bin(E; Δ=Δ, Z=Z) : Bout(E; Δ=Δ, Z=Z)\n",
    "B(n, V, E; Δ=0.0001, Z=0) = B(E + n * e * V; Δ=Δ, Z=Z)"
   ]
  },
  {
   "cell_type": "code",
   "execution_count": 61,
   "metadata": {},
   "outputs": [
    {
     "data": {
      "text/plain": [
       "T (generic function with 2 methods)"
      ]
     },
     "metadata": {},
     "output_type": "display_data"
    }
   ],
   "source": [
    "T(E; Δ=0.0001, Z=0) = abs(E) < Δ ? Tin(E) : Tout(E; Δ=Δ, Z=Z)\n",
    "T(n, V, E; Δ=0.0001, Z=0) = T(E + n * e * V; Δ=Δ, Z=Z)"
   ]
  },
  {
   "cell_type": "code",
   "execution_count": 72,
   "metadata": {},
   "outputs": [
    {
     "data": {
      "text/latex": [
       "$\\frac{1}{1 + e^{\\frac{E - \\mu}{kB \\cdot T}}}$"
      ],
      "text/plain": [
       "L\"$\\frac{1}{1 + e^{\\frac{E - \\mu}{kB \\cdot T}}}$\""
      ]
     },
     "metadata": {},
     "output_type": "display_data"
    }
   ],
   "source": [
    "f0(E; μ=0, t=0) = 1/(1+exp((E-μ)/(kB*t)))\n",
    "f(n, V, E; μ=0, t=0) = E-μ == t == 0 ? 1.0 : f0(E + n * e * V; μ=μ, t=t)\n",
    ":(1/(1+exp((E-μ)/(kB*T)))) |> latexify"
   ]
  },
  {
   "cell_type": "code",
   "execution_count": 34,
   "metadata": {},
   "outputs": [
    {
     "data": {
      "text/plain": [
       "δ (generic function with 1 method)"
      ]
     },
     "metadata": {},
     "output_type": "display_data"
    }
   ],
   "source": [
    "δ(i, j) = Int(i == j)"
   ]
  },
  {
   "cell_type": "code",
   "execution_count": 41,
   "metadata": {},
   "outputs": [
    {
     "data": {
      "text/plain": [
       "Q (generic function with 1 method)"
      ]
     },
     "metadata": {},
     "output_type": "display_data"
    }
   ],
   "source": [
    "function Q(V, E, i, j; Δ=0.0001, Z=0, n=10)\n",
    "    return if i <= 2n + 1\n",
    "        A(n + 1 - i, V, E; Δ=Δ, Z=Z) * δ(j, i + 1) - B(n + 1 - i, V, E; Δ=Δ, Z=Z) * δ(j, 4n + 5 - i)\n",
    "    elseif i == 2n + 2\n",
    "        δ(i, j)\n",
    "    elseif 2n + 3 <= i <= 4n + 3\n",
    "        A(3n + 3 - i, V, -E; Δ=Δ, Z=Z) * δ(j, i + 1) - B(3n + 3 - i, V, -E; Δ=Δ, Z=Z) * δ(j, 4n + 5 - i)\n",
    "    elseif i == 4n + 4\n",
    "        δ(i, j)\n",
    "    end\n",
    "end"
   ]
  },
  {
   "cell_type": "code",
   "execution_count": 77,
   "metadata": {},
   "outputs": [
    {
     "data": {
      "text/plain": [
       "P (generic function with 1 method)"
      ]
     },
     "metadata": {},
     "output_type": "display_data"
    }
   ],
   "source": [
    "function P(V, E, i; Δ=0.0001, Z=0, μ=0, t=0, n=10)\n",
    "    return if i <= 2n + 2\n",
    "        B(n + 1 - i, V, E; Δ=Δ, Z=Z) + T(n + 1 - i, V, E; Δ=Δ, Z=Z) * f(n + 1 - i, V, E; μ=μ, t=t)\n",
    "    else\n",
    "        B(3n + 3 - i, V, -E; Δ=Δ, Z=Z) + T(3n + 3 - i, V, -E; Δ=Δ, Z=Z) * f(3n + 3 - i, V, -E; μ=μ, t=t)\n",
    "    end\n",
    "end"
   ]
  },
  {
   "cell_type": "code",
   "execution_count": 78,
   "metadata": {},
   "outputs": [
    {
     "data": {
      "text/plain": [
       "G0 (generic function with 1 method)"
      ]
     },
     "metadata": {},
     "output_type": "display_data"
    }
   ],
   "source": [
    "function G0(V, E, i; μ=0, t=0, n=10)\n",
    "    return if i <= 2n + 2\n",
    "        f(n + 1 - i, V, E; μ=μ, t=t)\n",
    "    else\n",
    "        f(3n + 3 - i, V, -E; μ=μ, t=t)\n",
    "    end\n",
    "end"
   ]
  },
  {
   "cell_type": "code",
   "execution_count": 79,
   "metadata": {},
   "outputs": [
    {
     "data": {
      "text/plain": [
       "44×44 Matrix{Real}:\n",
       " 0.0  1.0  0.0  0.0  0.0  0.0  0.0  0.0  …  0.0  0.0  0.0  0.0  0.0  0.0  0.0\n",
       " 0.0  0.0  1.0  0.0  0.0  0.0  0.0  0.0     0.0  0.0  0.0  0.0  0.0  0.0  0.0\n",
       " 0.0  0.0  0.0  1.0  0.0  0.0  0.0  0.0     0.0  0.0  0.0  0.0  0.0  0.0  0.0\n",
       " 0.0  0.0  0.0  0.0  1.0  0.0  0.0  0.0     0.0  0.0  0.0  0.0  0.0  0.0  0.0\n",
       " 0.0  0.0  0.0  0.0  0.0  1.0  0.0  0.0     0.0  0.0  0.0  0.0  0.0  0.0  0.0\n",
       " 0.0  0.0  0.0  0.0  0.0  0.0  1.0  0.0  …  0.0  0.0  0.0  0.0  0.0  0.0  0.0\n",
       " 0.0  0.0  0.0  0.0  0.0  0.0  0.0  1.0     0.0  0.0  0.0  0.0  0.0  0.0  0.0\n",
       " 0.0  0.0  0.0  0.0  0.0  0.0  0.0  0.0     0.0  0.0  0.0  0.0  0.0  0.0  0.0\n",
       " 0.0  0.0  0.0  0.0  0.0  0.0  0.0  0.0     0.0  0.0  0.0  0.0  0.0  0.0  0.0\n",
       " 0.0  0.0  0.0  0.0  0.0  0.0  0.0  0.0     0.0  0.0  0.0  0.0  0.0  0.0  0.0\n",
       " ⋮                        ⋮              ⋱                 ⋮              \n",
       " 0.0  0.0  0.0  0.0  0.0  0.0  0.0  0.0  …  0.0  0.0  0.0  0.0  0.0  0.0  0.0\n",
       " 0.0  0.0  0.0  0.0  0.0  0.0  0.0  0.0     1.0  0.0  0.0  0.0  0.0  0.0  0.0\n",
       " 0.0  0.0  0.0  0.0  0.0  0.0  0.0  0.0     0.0  1.0  0.0  0.0  0.0  0.0  0.0\n",
       " 0.0  0.0  0.0  0.0  0.0  0.0  0.0  0.0     0.0  0.0  1.0  0.0  0.0  0.0  0.0\n",
       " 0.0  0.0  0.0  0.0  0.0  0.0  0.0  0.0     0.0  0.0  0.0  1.0  0.0  0.0  0.0\n",
       " 0.0  0.0  0.0  0.0  0.0  0.0  0.0  0.0  …  0.0  0.0  0.0  0.0  1.0  0.0  0.0\n",
       " 0.0  0.0  0.0  0.0  0.0  0.0  0.0  0.0     0.0  0.0  0.0  0.0  0.0  1.0  0.0\n",
       " 0.0  0.0  0.0  0.0  0.0  0.0  0.0  0.0     0.0  0.0  0.0  0.0  0.0  0.0  1.0\n",
       " 0    0    0    0    0    0    0    0       0    0    0    0    0    0    1"
      ]
     },
     "metadata": {},
     "output_type": "display_data"
    }
   ],
   "source": [
    "Qm = [Q(1e-3, 0, i, j) for i in 1:44, j in 1:44]"
   ]
  },
  {
   "cell_type": "code",
   "execution_count": 80,
   "metadata": {},
   "outputs": [
    {
     "data": {
      "text/plain": [
       "44-element Vector{Float64}:\n",
       " 1.0\n",
       " 1.0\n",
       " 1.0\n",
       " 1.0\n",
       " 1.0\n",
       " 1.0\n",
       " 1.0\n",
       " 1.0\n",
       " 1.0\n",
       " 1.0\n",
       " ⋮\n",
       " 1.0\n",
       " 1.0\n",
       " 1.0\n",
       " 1.0\n",
       " 1.0\n",
       " 1.0\n",
       " 1.0\n",
       " 1.0\n",
       " 1.0"
      ]
     },
     "metadata": {},
     "output_type": "display_data"
    }
   ],
   "source": [
    "G0m = [G0(1e-3, 0, i) for i in 1:44]"
   ]
  },
  {
   "cell_type": "code",
   "execution_count": 81,
   "metadata": {},
   "outputs": [
    {
     "data": {
      "text/plain": [
       "44-element Vector{Float64}:\n",
       " 0.0\n",
       " 0.0\n",
       " 0.0\n",
       " 0.0\n",
       " 0.0\n",
       " 0.0\n",
       " 0.0\n",
       " 0.0\n",
       " 0.0\n",
       " 0.0\n",
       " ⋮\n",
       " 0.0\n",
       " 0.0\n",
       " 0.0\n",
       " 0.0\n",
       " 0.0\n",
       " 0.0\n",
       " 0.0\n",
       " 0.0\n",
       " 0.0"
      ]
     },
     "metadata": {},
     "output_type": "display_data"
    }
   ],
   "source": [
    "Pm = [P(1e-3, 0, i) for i in 1:44]"
   ]
  },
  {
   "cell_type": "code",
   "execution_count": 85,
   "metadata": {},
   "outputs": [
    {
     "data": {
      "text/plain": [
       "0.0"
      ]
     },
     "metadata": {},
     "output_type": "display_data"
    }
   ],
   "source": [
    "Gn = Qm*G0m+Pm\n",
    "sum(abs2.(Gn.-G0m))"
   ]
  },
  {
   "cell_type": "code",
   "execution_count": null,
   "metadata": {},
   "outputs": [],
   "source": []
  },
  {
   "cell_type": "code",
   "execution_count": 3,
   "metadata": {},
   "outputs": [
    {
     "data": {
      "text/latex": [
       "$\\frac{1 - \\mathrm{Aout}\\left(  - E \\right)}{\\left( 1 - \\mathrm{Aout}\\left( E \\right) \\right) \\cdot \\left( 1 - \\mathrm{Aout}\\left(  - E \\right) \\right) - \\mathrm{Bout}\\left( E \\right) \\cdot \\mathrm{Bout}\\left(  - E \\right)} \\cdot \\left( \\mathrm{Bout}\\left( E \\right) + \\mathrm{Tout}\\left( E \\right) \\cdot \\mathrm{f0}\\left( E \\right) - \\frac{\\mathrm{Bout}\\left( E \\right) \\cdot \\left( \\mathrm{Bout}\\left(  - E \\right) + \\mathrm{Tout}\\left(  - E \\right) \\cdot \\mathrm{f0}\\left(  - E \\right) \\right)}{1 - \\mathrm{Aout}\\left(  - E \\right)} \\right)$"
      ],
      "text/plain": [
       "L\"$\\frac{1 - \\mathrm{Aout}\\left(  - E \\right)}{\\left( 1 - \\mathrm{Aout}\\left( E \\right) \\right) \\cdot \\left( 1 - \\mathrm{Aout}\\left(  - E \\right) \\right) - \\mathrm{Bout}\\left( E \\right) \\cdot \\mathrm{Bout}\\left(  - E \\right)} \\cdot \\left( \\mathrm{Bout}\\left( E \\right) + \\mathrm{Tout}\\left( E \\right) \\cdot \\mathrm{f0}\\left( E \\right) - \\frac{\\mathrm{Bout}\\left( E \\right) \\cdot \\left( \\mathrm{Bout}\\left(  - E \\right) + \\mathrm{Tout}\\left(  - E \\right) \\cdot \\mathrm{f0}\\left(  - E \\right) \\right)}{1 - \\mathrm{Aout}\\left(  - E \\right)} \\right)$\""
      ]
     },
     "metadata": {},
     "output_type": "display_data"
    }
   ],
   "source": [
    ":((1-Aout(-E))/((1-Aout(E))*(1-Aout(-E))-Bout(E)*Bout(-E))*(Bout(E)+Tout(E)*f0(E)-(Bout(E)*(Bout(-E)+Tout(-E)*f0(-E)))/(1-Aout(-E)))) |> latexify"
   ]
  },
  {
   "cell_type": "code",
   "execution_count": null,
   "metadata": {},
   "outputs": [],
   "source": []
  }
 ],
 "metadata": {
  "kernelspec": {
   "display_name": "Julia 1.10.0",
   "language": "julia",
   "name": "julia-1.10"
  },
  "language_info": {
   "file_extension": ".jl",
   "mimetype": "application/julia",
   "name": "julia",
   "version": "1.10.0"
  }
 },
 "nbformat": 4,
 "nbformat_minor": 2
}
